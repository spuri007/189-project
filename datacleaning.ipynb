{
 "cells": [
  {
   "cell_type": "code",
   "execution_count": 2,
   "metadata": {},
   "outputs": [],
   "source": [
    "#data cleaning\n",
    "import pandas as pd\n",
    "import numpy as np"
   ]
  },
  {
   "cell_type": "code",
   "execution_count": 12,
   "metadata": {},
   "outputs": [
    {
     "name": "stdout",
     "output_type": "stream",
     "text": [
      "(1507, 73)\n",
      "Response ID\n",
      "What year were you born?\n",
      "What is your gender?\n",
      "Which of the following best describes your industry?\n",
      "Which of the following best describes your industry? (Detailed)\n",
      "Which of the following best describes your current occupation?\n",
      "Which of the following best describes your current occupation? (Detailed)\n",
      "How many people are currently employed by your organisation?\n",
      "Do you manage people as part of your current occupation?\n",
      "Which of the following best describes your household?\n",
      "How long have you been in your current job?\n",
      "Metro / Regional\n",
      "Thinking about your current job, how much of your time did you spend remote working last year?\n",
      "Thinking about remote working last year, how strongly do you agree or disagree with the following statements? - My organisation encouraged people to work remotely\n",
      "Thinking about remote working last year, how strongly do you agree or disagree with the following statements? - My organisation was well prepared for me to work remotely\n",
      "Thinking about remote working last year, how strongly do you agree or disagree with the following statements? - It was common for people in my organisation to work remotely\n",
      "Thinking about remote working last year, how strongly do you agree or disagree with the following statements? - It was easy to get permission to work remotely\n",
      "Thinking about remote working last year, how strongly do you agree or disagree with the following statements? - I could easily collaborate with colleagues when working remotely\n",
      "Thinking about remote working last year, how strongly do you agree or disagree with the following statements? - I would recommend remote working to others\n",
      "How much of your time would you have preferred to work remotely last year?\n",
      "Thinking about your current job, how much of your time did you spend remote working in the last 3 months?\n",
      "Thinking about remote working in the last 3 months, how strongly do you agree or disagree with the following statements? - My organisation encouraged people to work remotely\n",
      "Thinking about remote working in the last 3 months, how strongly do you agree or disagree with the following statements? - My organisation was well prepared for me to work remotely\n",
      "Thinking about remote working in the last 3 months, how strongly do you agree or disagree with the following statements? - It was common for people in my organisation to work remotely\n",
      "Thinking about remote working in the last 3 months, how strongly do you agree or disagree with the following statements? - It was easy to get permission to work remotely\n",
      "Thinking about remote working in the last 3 months, how strongly do you agree or disagree with the following statements? - I could easily collaborate with colleagues when working remotely\n",
      "Thinking about remote working in the last 3 months, how strongly do you agree or disagree with the following statements? - I would recommend remote working to others\n",
      "How much of your time would you have preferred to work remotely in the last 3 months?\n",
      "Imagine that COVID-19 is cured or eradicated. Going forward, how much of your time would you prefer to work remotely?\n",
      "Imagine that COVID-19 is cured or eradicated.  How likely would you consider the following statements? - My employer would encourage more remote working\n",
      "Imagine that COVID-19 is cured or eradicated.  How likely would you consider the following statements? - My employer would make changes to support remote working\n",
      "Imagine that COVID-19 is cured or eradicated.  How likely would you consider the following statements? - I would have more choice about whether I work remotely\n",
      "This question is about your productivity. Productivity means what you produce for each hour that you work. It includes the amount of work you achieve each hour, and the quality of your work each hour.  \n",
      "Please compare your productivity when you work remotely to when you work at your employers workplace.  \n",
      "Roughly how productive are you, each hour, when you work remotely?\n",
      "On a day when you attend your employer's workplace, how many hours would you spend doing the following activities? - Preparing for work and commuting\n",
      "On a day when you attend your employer's workplace, how many hours would you spend doing the following activities? - Working\n",
      "On a day when you attend your employer's workplace, how many hours would you spend doing the following activities? - Personal and family time\n",
      "On a day when you attend your employer's workplace, how many hours would you spend doing the following activities? - Caring and domestic responsibilities\n",
      "On a day when you do remote work, how many hours would you spend doing the following activities? - Preparing for work and commuting\n",
      "On a day when you do remote work, how many hours would you spend doing the following activities? - Working\n",
      "On a day when you do remote work, how many hours would you spend doing the following activities? - Personal and family time\n",
      "On a day when you do remote work, how many hours would you spend doing the following activities? - Caring and domestic responsibilities\n",
      "From the following, please select the most significant barrier to doing your work remotely - Connectivity (internet connection) ; Feeling left out and/or isolated ; Poor management ; IT equipment (computer, printer, etc.) ; Difficulty collaborating remotely ; Caring responsibilities\n",
      "From the following, please select the least significant barrier to doing your work remotely - Connectivity (internet connection) ; Feeling left out and/or isolated ; Poor management ; IT equipment (computer, printer, etc.) ; Difficulty collaborating remotely ; Caring responsibilities\n",
      "From the following, please select the most significant barrier to doing your work remotely - Connectivity (internet connection) ; Feeling left out and/or isolated ; Poor management ; Cyber security ; Lack of motivation ; Lack of motivation\n",
      "From the following, please select the least significant barrier to doing your work remotely - Connectivity (internet connection) ; Feeling left out and/or isolated ; Poor management ; Cyber security ; Lack of motivation ; Lack of motivation\n",
      "From the following, please select the most significant barrier to doing your work remotely - Connectivity (internet connection) ; Feeling left out and/or isolated ; Poor management ; My organisation's software and systems ; My workspace (e.g. suitable chair, lighting, noise levels, facilities) ; I have tasks that can't be done remotely\n",
      "From the following, please select the least significant barrier to doing your work remotely - Connectivity (internet connection) ; Feeling left out and/or isolated ; Poor management ; My organisation's software and systems ; My workspace (e.g. suitable chair, lighting, noise levels, facilities) ; I have tasks that can't be done remotely\n",
      "From the following, please select the most significant barrier to doing your work remotely - Connectivity (internet connection) ; Feeling left out and/or isolated ; Poor management ; Lack of remote working skills ; My living situation (e.g. location, home size, who I live with) ; Management discourages remote working\n",
      "From the following, please select the least significant barrier to doing your work remotely - Connectivity (internet connection) ; Feeling left out and/or isolated ; Poor management ; Lack of remote working skills ; My living situation (e.g. location, home size, who I live with) ; Management discourages remote working\n",
      "From the following, please select the most significant barrier to doing your work remotely - IT equipment (computer, printer, etc.) ; Difficulty collaborating remotely ; Caring responsibilities ; Cyber security ; Lack of motivation ; Lack of motivation\n",
      "From the following, please select the least significant barrier to doing your work remotely - IT equipment (computer, printer, etc.) ; Difficulty collaborating remotely ; Caring responsibilities ; Cyber security ; Lack of motivation ; Lack of motivation\n",
      "From the following, please select the most significant barrier to doing your work remotely - IT equipment (computer, printer, etc.) ; Difficulty collaborating remotely ; Caring responsibilities ; My organisation's software and systems ; My workspace (e.g. suitable chair, lighting, noise levels, facilities) ; I have tasks that can't be done remotely\n",
      "From the following, please select the least significant barrier to doing your work remotely - IT equipment (computer, printer, etc.) ; Difficulty collaborating remotely ; Caring responsibilities ; My organisation's software and systems ; My workspace (e.g. suitable chair, lighting, noise levels, facilities) ; I have tasks that can't be done remotely\n",
      "From the following, please select the most significant barrier to doing your work remotely - IT equipment (computer, printer, etc.) ; Difficulty collaborating remotely ; Caring responsibilities ; Lack of remote working skills ; My living situation (e.g. location, home size, who I live with) ; Management discourages remote working\n",
      "From the following, please select the least significant barrier to doing your work remotely - IT equipment (computer, printer, etc.) ; Difficulty collaborating remotely ; Caring responsibilities ; Lack of remote working skills ; My living situation (e.g. location, home size, who I live with) ; Management discourages remote working\n",
      "From the following, please select the most significant barrier to doing your work remotely - Cyber security ; Lack of motivation ; Lack of motivation ; My organisation's software and systems ; My workspace (e.g. suitable chair, lighting, noise levels, facilities) ; I have tasks that can't be done remotely\n",
      "From the following, please select the least significant barrier to doing your work remotely - Cyber security ; Lack of motivation ; Lack of motivation ; My organisation's software and systems ; My workspace (e.g. suitable chair, lighting, noise levels, facilities) ; I have tasks that can't be done remotely\n",
      "From the following, please select the most significant barrier to doing your work remotely - Cyber security ; Lack of motivation ; Lack of motivation ; Lack of remote working skills ; My living situation (e.g. location, home size, who I live with) ; Management discourages remote working\n",
      "From the following, please select the least significant barrier to doing your work remotely - Cyber security ; Lack of motivation ; Lack of motivation ; Lack of remote working skills ; My living situation (e.g. location, home size, who I live with) ; Management discourages remote working\n",
      "From the following, please select the most significant barrier to doing your work remotely - My organisation's software and systems ; My workspace (e.g. suitable chair, lighting, noise levels, facilities) ; I have tasks that can't be done remotely ; Lack of remote working skills ; My living situation (e.g. location, home size, who I live with) ; Management discourages remote working\n",
      "From the following, please select the least significant barrier to doing your work remotely - My organisation's software and systems ; My workspace (e.g. suitable chair, lighting, noise levels, facilities) ; I have tasks that can't be done remotely ; Lack of remote working skills ; My living situation (e.g. location, home size, who I live with) ; Management discourages remote working\n",
      "Compare remote working to working at your employers workplace. Select the best aspect of remote working for you - Managing my family responsibilities ; My working relationships ; Preparing for work and commuting ; The number of hours  I work ; My work-life balance ; My on-the-job learning opportunities\n",
      "Compare remote working to working at your employers workplace. Select the worst aspect of remote working for you - Managing my family responsibilities ; My working relationships ; Preparing for work and commuting ; The number of hours  I work ; My work-life balance ; My on-the-job learning opportunities\n",
      "Compare remote working to working at your employers workplace. Select the best aspect of remote working for you - Managing my family responsibilities ; My working relationships ; Preparing for work and commuting ; Managing my personal commitments ; My opportunities to socialise ; My mental wellbeing\n",
      "Compare remote working to working at your employers workplace. Select the worst aspect of remote working for you - Managing my family responsibilities ; My working relationships ; Preparing for work and commuting ; Managing my personal commitments ; My opportunities to socialise ; My mental wellbeing\n",
      "Compare remote working to working at your employers workplace. Select the best aspect of remote working for you - Managing my family responsibilities ; My working relationships ; Preparing for work and commuting ; My daily expenses ; My personal relationships ; My job satisfaction\n",
      "Compare remote working to working at your employers workplace. Select the worst aspect of remote working for you - Managing my family responsibilities ; My working relationships ; Preparing for work and commuting ; My daily expenses ; My personal relationships ; My job satisfaction\n",
      "Compare remote working to working at your employers workplace. Select the best aspect of remote working for you - The number of hours  I work ; My work-life balance ; My on-the-job learning opportunities ; Managing my personal commitments ; My opportunities to socialise ; My mental wellbeing\n",
      "Compare remote working to working at your employers workplace. Select the worst aspect of remote working for you - The number of hours  I work ; My work-life balance ; My on-the-job learning opportunities ; Managing my personal commitments ; My opportunities to socialise ; My mental wellbeing\n",
      "Compare remote working to working at your employers workplace. Select the best aspect of remote working for you - The number of hours  I work ; My work-life balance ; My on-the-job learning opportunities ; My daily expenses ; My personal relationships ; My job satisfaction\n",
      "Compare remote working to working at your employers workplace. Select the worst aspect of remote working for you - The number of hours  I work ; My work-life balance ; My on-the-job learning opportunities ; My daily expenses ; My personal relationships ; My job satisfaction\n",
      "Compare remote working to working at your employers workplace. Select the best aspect of remote working for you - Managing my personal commitments ; My opportunities to socialise ; My mental wellbeing ; My daily expenses ; My personal relationships ; My job satisfaction\n",
      "Compare remote working to working at your employers workplace. Select the worst aspect of remote working for you - Managing my personal commitments ; My opportunities to socialise ; My mental wellbeing ; My daily expenses ; My personal relationships ; My job satisfaction\n"
     ]
    }
   ],
   "source": [
    "#read data\n",
    "try:\n",
    "    data = pd.read_csv('2020_rws.csv', encoding='utf-8')\n",
    "except:\n",
    "    try:\n",
    "        data = pd.read_csv('2020_rws.csv', encoding='ISO-8859-1')\n",
    "    except UnicodeDecodeError:\n",
    "        data = pd.read_csv('2020_rws.csv', encoding='cp1252')\n",
    "print(data.shape)\n",
    "col=data.columns\n",
    "all=set(col)\n",
    "for c in col:\n",
    "    print(c)\n",
    "    \n"
   ]
  },
  {
   "cell_type": "code",
   "execution_count": 13,
   "metadata": {},
   "outputs": [
    {
     "data": {
      "text/plain": [
       "array(['Strongly agree', 'Somewhat agree', 'Neither agree nor disagree',\n",
       "       'Somewhat disagree', nan, 'Strongly disagree'], dtype=object)"
      ]
     },
     "execution_count": 13,
     "metadata": {},
     "output_type": "execute_result"
    }
   ],
   "source": [
    "#print unqiue values \n",
    "data['Thinking about remote working in the last 3 months, how strongly do you agree or disagree with the following statements? - I would recommend remote working to others'].unique()"
   ]
  },
  {
   "cell_type": "code",
   "execution_count": null,
   "metadata": {},
   "outputs": [],
   "source": [
    "#removing rows where the occupation is not remote\n",
    "rows = ['Labourers', 'Machinery operators and drivers']\n",
    "data = data[~data['Which of the following best describes your current occupation?'].isin(rows)]\n",
    "\n",
    "rows = ['Health Professionals', 'Hospitality, Retail and Service Managers', 'Sales Assistants and Salespersons', 'Other Labourers', 'Sports and Personal Service', 'Construction and Mining Labourers', 'Construction Trades', 'Hospitality', 'Other Technicians and Trades', 'Food Preparation Assistants', 'Food Trades', 'Road and Rail Drivers', 'Machine and Stationary Plant Operators', 'Carers and Aides', 'Inquiry Clerks and Receptionists', 'Skilled Animal and Horticultural', 'Cleaners and Laundry', 'Automotive and Engineering Trades', 'Farmers and Farm Managers', 'Mobile Plant Operators', 'Factory Process']\n",
    "data = data[~data['Which of the following best describes your current occupation? (Detailed)'].isin(rows)]\n",
    "\n",
    "\n",
    "\n",
    "\n",
    "columns = ['what is your age?', 'What is your gender?']\n",
    "\n",
    "print(data.shape)\n",
    "print(data.head())"
   ]
  }
 ],
 "metadata": {
  "kernelspec": {
   "display_name": "Python 3",
   "language": "python",
   "name": "python3"
  },
  "language_info": {
   "codemirror_mode": {
    "name": "ipython",
    "version": 3
   },
   "file_extension": ".py",
   "mimetype": "text/x-python",
   "name": "python",
   "nbconvert_exporter": "python",
   "pygments_lexer": "ipython3",
   "version": "3.12.3"
  }
 },
 "nbformat": 4,
 "nbformat_minor": 2
}
